{
  "cells": [
    {
      "cell_type": "markdown",
      "metadata": {
        "id": "ocefQLJIUuuk"
      },
      "source": [
        "# **Workshop 5: Data Quality**\n",
        "**คำสั่ง**\n",
        "\n",
        "1.   ศึกษาวิธีการตรวจสอบคุณภาพของข้อมูลชุดข้อมูล transaction data \n",
        "2.   ทำการตรวจสอบคุณภาพของข้อมูล ชุดข้อมูล customer data  โดยทำปฏิบัติการแต่ละข้อ\n",
        "3.   ตั้งชื่อไฟล์ python notebook นี้ในรูปแบบ Lab_05_XXXXXXXXX.ipynb โดย XXXXXXXXX คือ รหัสนักศึกษา\n",
        "4.   ทำการดาวน์โหลดและส่งไฟล์ Lab_05_XXXXXXXXX.ipynb ที่เว็บไซต์ http://hw.cs.science.cmu.ac.th "
      ]
    },
    {
      "cell_type": "code",
      "execution_count": 1,
      "metadata": {
        "id": "paLTi4i6UuAN"
      },
      "outputs": [],
      "source": [
        "import pandas as pd\n",
        "import numpy as np"
      ]
    },
    {
      "cell_type": "code",
      "execution_count": 2,
      "metadata": {
        "id": "vP2JKu8tVa8k"
      },
      "outputs": [
        {
          "data": {
            "text/html": [
              "<div>\n",
              "<style scoped>\n",
              "    .dataframe tbody tr th:only-of-type {\n",
              "        vertical-align: middle;\n",
              "    }\n",
              "\n",
              "    .dataframe tbody tr th {\n",
              "        vertical-align: top;\n",
              "    }\n",
              "\n",
              "    .dataframe thead th {\n",
              "        text-align: right;\n",
              "    }\n",
              "</style>\n",
              "<table border=\"1\" class=\"dataframe\">\n",
              "  <thead>\n",
              "    <tr style=\"text-align: right;\">\n",
              "      <th></th>\n",
              "      <th>txn_id</th>\n",
              "      <th>cust_id</th>\n",
              "      <th>price</th>\n",
              "      <th>process_date</th>\n",
              "    </tr>\n",
              "  </thead>\n",
              "  <tbody>\n",
              "    <tr>\n",
              "      <th>0</th>\n",
              "      <td>1</td>\n",
              "      <td>v</td>\n",
              "      <td>89.0</td>\n",
              "      <td>1/5/2021</td>\n",
              "    </tr>\n",
              "    <tr>\n",
              "      <th>1</th>\n",
              "      <td>2</td>\n",
              "      <td>y</td>\n",
              "      <td>60.0</td>\n",
              "      <td>1/5/2021</td>\n",
              "    </tr>\n",
              "    <tr>\n",
              "      <th>2</th>\n",
              "      <td>3</td>\n",
              "      <td>m</td>\n",
              "      <td>55.0</td>\n",
              "      <td>1/5/2021</td>\n",
              "    </tr>\n",
              "    <tr>\n",
              "      <th>3</th>\n",
              "      <td>4</td>\n",
              "      <td>s</td>\n",
              "      <td>NaN</td>\n",
              "      <td>1/5/2021</td>\n",
              "    </tr>\n",
              "    <tr>\n",
              "      <th>4</th>\n",
              "      <td>5</td>\n",
              "      <td>z</td>\n",
              "      <td>50.0</td>\n",
              "      <td>1/5/2021</td>\n",
              "    </tr>\n",
              "    <tr>\n",
              "      <th>5</th>\n",
              "      <td>6</td>\n",
              "      <td>s</td>\n",
              "      <td>41.0</td>\n",
              "      <td>2/5/2021</td>\n",
              "    </tr>\n",
              "    <tr>\n",
              "      <th>6</th>\n",
              "      <td>7</td>\n",
              "      <td>s</td>\n",
              "      <td>NaN</td>\n",
              "      <td>15/5/2021</td>\n",
              "    </tr>\n",
              "    <tr>\n",
              "      <th>7</th>\n",
              "      <td>8</td>\n",
              "      <td>e</td>\n",
              "      <td>23.0</td>\n",
              "      <td>1/5/2021</td>\n",
              "    </tr>\n",
              "    <tr>\n",
              "      <th>8</th>\n",
              "      <td>9</td>\n",
              "      <td>n</td>\n",
              "      <td>12.0</td>\n",
              "      <td>1/5/2021</td>\n",
              "    </tr>\n",
              "    <tr>\n",
              "      <th>9</th>\n",
              "      <td>10</td>\n",
              "      <td>x</td>\n",
              "      <td>87.0</td>\n",
              "      <td>1/5/2021</td>\n",
              "    </tr>\n",
              "  </tbody>\n",
              "</table>\n",
              "</div>"
            ],
            "text/plain": [
              "   txn_id cust_id  price process_date\n",
              "0       1       v   89.0     1/5/2021\n",
              "1       2       y   60.0     1/5/2021\n",
              "2       3       m   55.0     1/5/2021\n",
              "3       4       s    NaN     1/5/2021\n",
              "4       5       z   50.0     1/5/2021\n",
              "5       6       s   41.0     2/5/2021\n",
              "6       7       s    NaN    15/5/2021\n",
              "7       8       e   23.0     1/5/2021\n",
              "8       9       n   12.0     1/5/2021\n",
              "9      10       x   87.0     1/5/2021"
            ]
          },
          "execution_count": 2,
          "metadata": {},
          "output_type": "execute_result"
        }
      ],
      "source": [
        "transaction_data = pd.read_csv(\"/workspaces/codespaces-jupyter/data/transaction_data.csv\", na_values=-999)\n",
        "transaction_data"
      ]
    },
    {
      "cell_type": "markdown",
      "metadata": {
        "id": "BBRgUzfhX54H"
      },
      "source": [
        "# Missing values"
      ]
    },
    {
      "cell_type": "code",
      "execution_count": 4,
      "metadata": {
        "id": "JGay65dtX5O5"
      },
      "outputs": [
        {
          "name": "stdout",
          "output_type": "stream",
          "text": [
            "   txn_id  cust_id  price  process_date\n",
            "0   False    False  False         False\n",
            "1   False    False  False         False\n",
            "2   False    False  False         False\n",
            "3   False    False   True         False\n",
            "4   False    False  False         False\n",
            "5   False    False  False         False\n",
            "6   False    False   True         False\n",
            "7   False    False  False         False\n",
            "8   False    False  False         False\n",
            "9   False    False  False         False\n"
          ]
        }
      ],
      "source": [
        "# detect missing values\n",
        "missingValues = transaction_data.isna()\n",
        "print(missingValues)"
      ]
    },
    {
      "cell_type": "code",
      "execution_count": 5,
      "metadata": {
        "id": "exSfVGwrbRsb"
      },
      "outputs": [
        {
          "name": "stdout",
          "output_type": "stream",
          "text": [
            "2\n"
          ]
        }
      ],
      "source": [
        "# count the number of missing data\n",
        "num_missing = missingValues.values.sum()\n",
        "print(num_missing)"
      ]
    },
    {
      "cell_type": "code",
      "execution_count": 6,
      "metadata": {
        "id": "W3ZrJYSabKOW"
      },
      "outputs": [
        {
          "name": "stdout",
          "output_type": "stream",
          "text": [
            "0    0\n",
            "1    0\n",
            "2    0\n",
            "3    1\n",
            "4    0\n",
            "5    0\n",
            "6    1\n",
            "7    0\n",
            "8    0\n",
            "9    0\n",
            "dtype: int64\n",
            "There are 2 rows contain missing values\n"
          ]
        }
      ],
      "source": [
        "# count the number of rows having missing data\n",
        "row_missing = missingValues.sum(axis=1)\n",
        "print(row_missing)\n",
        "num_row_missing = np.count_nonzero(row_missing)\n",
        "print(\"There are %d rows contain missing values\"%(num_row_missing))"
      ]
    },
    {
      "cell_type": "code",
      "execution_count": 7,
      "metadata": {
        "id": "5DO60alSY7it"
      },
      "outputs": [
        {
          "name": "stdout",
          "output_type": "stream",
          "text": [
            "txn_id          0\n",
            "cust_id         0\n",
            "price           2\n",
            "process_date    0\n",
            "dtype: int64\n",
            "There are 1 columns contain missing values\n"
          ]
        }
      ],
      "source": [
        "# count the number of columns having missing data\n",
        "col_missing = missingValues.sum()\n",
        "print(col_missing)\n",
        "num_col_missing = np.count_nonzero(col_missing)\n",
        "print(\"There are %d columns contain missing values\"%(num_col_missing))"
      ]
    },
    {
      "cell_type": "markdown",
      "metadata": {
        "id": "ugj-uSPgqg3I"
      },
      "source": [
        "# Duplicated records"
      ]
    },
    {
      "cell_type": "code",
      "execution_count": 8,
      "metadata": {
        "id": "F2iGEoujr3PI"
      },
      "outputs": [
        {
          "data": {
            "text/html": [
              "<div>\n",
              "<style scoped>\n",
              "    .dataframe tbody tr th:only-of-type {\n",
              "        vertical-align: middle;\n",
              "    }\n",
              "\n",
              "    .dataframe tbody tr th {\n",
              "        vertical-align: top;\n",
              "    }\n",
              "\n",
              "    .dataframe thead th {\n",
              "        text-align: right;\n",
              "    }\n",
              "</style>\n",
              "<table border=\"1\" class=\"dataframe\">\n",
              "  <thead>\n",
              "    <tr style=\"text-align: right;\">\n",
              "      <th></th>\n",
              "      <th>txn_id</th>\n",
              "      <th>cust_id</th>\n",
              "      <th>price</th>\n",
              "      <th>process_date</th>\n",
              "    </tr>\n",
              "  </thead>\n",
              "  <tbody>\n",
              "    <tr>\n",
              "      <th>5</th>\n",
              "      <td>6</td>\n",
              "      <td>s</td>\n",
              "      <td>41.0</td>\n",
              "      <td>2/5/2021</td>\n",
              "    </tr>\n",
              "    <tr>\n",
              "      <th>6</th>\n",
              "      <td>7</td>\n",
              "      <td>s</td>\n",
              "      <td>NaN</td>\n",
              "      <td>15/5/2021</td>\n",
              "    </tr>\n",
              "  </tbody>\n",
              "</table>\n",
              "</div>"
            ],
            "text/plain": [
              "   txn_id cust_id  price process_date\n",
              "5       6       s   41.0     2/5/2021\n",
              "6       7       s    NaN    15/5/2021"
            ]
          },
          "execution_count": 8,
          "metadata": {},
          "output_type": "execute_result"
        }
      ],
      "source": [
        "transaction_data[transaction_data.duplicated(['cust_id'])]"
      ]
    },
    {
      "cell_type": "code",
      "execution_count": 9,
      "metadata": {
        "id": "HGIb-JeLsdIh"
      },
      "outputs": [
        {
          "data": {
            "text/html": [
              "<div>\n",
              "<style scoped>\n",
              "    .dataframe tbody tr th:only-of-type {\n",
              "        vertical-align: middle;\n",
              "    }\n",
              "\n",
              "    .dataframe tbody tr th {\n",
              "        vertical-align: top;\n",
              "    }\n",
              "\n",
              "    .dataframe thead th {\n",
              "        text-align: right;\n",
              "    }\n",
              "</style>\n",
              "<table border=\"1\" class=\"dataframe\">\n",
              "  <thead>\n",
              "    <tr style=\"text-align: right;\">\n",
              "      <th></th>\n",
              "      <th>txn_id</th>\n",
              "      <th>cust_id</th>\n",
              "      <th>price</th>\n",
              "      <th>process_date</th>\n",
              "    </tr>\n",
              "  </thead>\n",
              "  <tbody>\n",
              "  </tbody>\n",
              "</table>\n",
              "</div>"
            ],
            "text/plain": [
              "Empty DataFrame\n",
              "Columns: [txn_id, cust_id, price, process_date]\n",
              "Index: []"
            ]
          },
          "execution_count": 9,
          "metadata": {},
          "output_type": "execute_result"
        }
      ],
      "source": [
        "transaction_data[transaction_data.duplicated(['txn_id'])]"
      ]
    },
    {
      "cell_type": "code",
      "execution_count": 10,
      "metadata": {
        "id": "DE-7GqoGshwJ"
      },
      "outputs": [
        {
          "data": {
            "text/html": [
              "<div>\n",
              "<style scoped>\n",
              "    .dataframe tbody tr th:only-of-type {\n",
              "        vertical-align: middle;\n",
              "    }\n",
              "\n",
              "    .dataframe tbody tr th {\n",
              "        vertical-align: top;\n",
              "    }\n",
              "\n",
              "    .dataframe thead th {\n",
              "        text-align: right;\n",
              "    }\n",
              "</style>\n",
              "<table border=\"1\" class=\"dataframe\">\n",
              "  <thead>\n",
              "    <tr style=\"text-align: right;\">\n",
              "      <th></th>\n",
              "      <th>txn_id</th>\n",
              "      <th>cust_id</th>\n",
              "      <th>price</th>\n",
              "      <th>process_date</th>\n",
              "    </tr>\n",
              "  </thead>\n",
              "  <tbody>\n",
              "  </tbody>\n",
              "</table>\n",
              "</div>"
            ],
            "text/plain": [
              "Empty DataFrame\n",
              "Columns: [txn_id, cust_id, price, process_date]\n",
              "Index: []"
            ]
          },
          "execution_count": 10,
          "metadata": {},
          "output_type": "execute_result"
        }
      ],
      "source": [
        "transaction_data[transaction_data.duplicated(['txn_id','cust_id'])]"
      ]
    },
    {
      "cell_type": "markdown",
      "metadata": {
        "id": "H19ZkSPkVrnZ"
      },
      "source": [
        "ปฏิบัติการข้อ 1) จงอ่านชุดข้อมูล Customer Data จากไฟล์ customer_data.csv โดยเก็บไว้ในตัวแปล customer_data (ข้อมูลสูญหาย ถูกแทนด้วยช่องว่าง)"
      ]
    },
    {
      "cell_type": "code",
      "execution_count": null,
      "metadata": {
        "id": "JFCIQR7oVlQi"
      },
      "outputs": [],
      "source": [
        "# Answer here!"
      ]
    },
    {
      "cell_type": "markdown",
      "metadata": {
        "id": "WJw1HTMVuTO7"
      },
      "source": [
        "ปฏิบัติการข้อ 2) จงนับจำนวนข้อมูลสูญหายทั้งหมดในชุดข้อมูล Customer Data "
      ]
    },
    {
      "cell_type": "code",
      "execution_count": null,
      "metadata": {
        "id": "DBe_TA2DufOi"
      },
      "outputs": [],
      "source": [
        "# Answer here!"
      ]
    },
    {
      "cell_type": "markdown",
      "metadata": {
        "id": "OyghuCrIvx6O"
      },
      "source": [
        "ปฏิบัติการข้อ 3) จงนับจำนวนคอลัมน์ในชุดข้อมูล Customer Data ที่มีข้อมูลสูญหาย"
      ]
    },
    {
      "cell_type": "code",
      "execution_count": null,
      "metadata": {
        "id": "Arn1MYnzvvbQ"
      },
      "outputs": [],
      "source": [
        "# Answer here!"
      ]
    },
    {
      "cell_type": "markdown",
      "metadata": {
        "id": "tdVprItqxXjW"
      },
      "source": [
        "ปฏิบัติการข้อ 4) จงนับจำนวนแถวข้อมูลในชุดข้อมูล Customer Data ที่มีข้อมูลสูญหาย"
      ]
    },
    {
      "cell_type": "code",
      "execution_count": null,
      "metadata": {
        "id": "GEyKCIomxfqT"
      },
      "outputs": [],
      "source": [
        "# Answer here!"
      ]
    },
    {
      "cell_type": "markdown",
      "metadata": {
        "id": "5ErnMhEuxoGu"
      },
      "source": [
        "ปฏิบัติการข้อ 5) จงหาลูกค้าที่มีการบันทึกข้อมูลในชุดข้อมูล Customer Data ในหลายระเบียนข้อมูล"
      ]
    },
    {
      "cell_type": "code",
      "execution_count": null,
      "metadata": {
        "id": "YBYnm4AExjxW"
      },
      "outputs": [],
      "source": [
        "# Answer here!"
      ]
    },
    {
      "cell_type": "markdown",
      "metadata": {
        "id": "jLShSZQRyhfh"
      },
      "source": [
        "ปฏิบัติการข้อ 6) จงหาลูกค้าที่มีค่าข้อมูลอายุ (age) ไม่อยู่ในขอบเขตข้อมูลที่ถูกต้อง"
      ]
    },
    {
      "cell_type": "code",
      "execution_count": null,
      "metadata": {
        "id": "j2UN-n0RygHx"
      },
      "outputs": [],
      "source": [
        "# Answer here!"
      ]
    },
    {
      "cell_type": "markdown",
      "metadata": {
        "id": "GhG94GTFyzIk"
      },
      "source": [
        "ปฏิบัติการข้อ 7) จงหาลูกค้าที่มีค่าข้อมูลอายุ (age) ผิดปรกติ ไม่สอดคล้องความเป็นจริง"
      ]
    },
    {
      "cell_type": "code",
      "execution_count": null,
      "metadata": {
        "id": "uk6YzEdxyyIp"
      },
      "outputs": [],
      "source": [
        "# Answer here!"
      ]
    },
    {
      "cell_type": "markdown",
      "metadata": {
        "id": "-vZ6S_6uUX-K"
      },
      "source": [
        "# Expand customer information in transaction data using information in customer data"
      ]
    },
    {
      "cell_type": "code",
      "execution_count": null,
      "metadata": {
        "id": "0UmB1nOpWUqi"
      },
      "outputs": [],
      "source": [
        "# Expand customer information in transaction data\n",
        "txn_with_cust = transaction_data.merge(customer_data, on='cust_id', how='left')\n",
        "txn_with_cust"
      ]
    },
    {
      "cell_type": "markdown",
      "metadata": {
        "id": "bwt5i00KWxY6"
      },
      "source": [
        "ปฏิบัติการข้อ 8) จากการรวมตารางข้อมูล transaction_data และ customer_data ข้างต้นจะพบว่ารูปแบบการแทนค่าตัวแปร process_date_x และ process_date_y ไม่สอดคล้องกัน จงทำให้รูปแบบการแทนค่าตัวแปร process_date_x และ process_date_y สอดคล้องกัน"
      ]
    },
    {
      "cell_type": "code",
      "execution_count": null,
      "metadata": {
        "id": "F-I6slCfXLpY"
      },
      "outputs": [],
      "source": [
        "# Answer here!"
      ]
    }
  ],
  "metadata": {
    "colab": {
      "collapsed_sections": [],
      "name": "Lab_05_XXXXXXXXX.ipynb",
      "provenance": []
    },
    "kernelspec": {
      "display_name": "Python 3",
      "name": "python3"
    },
    "language_info": {
      "codemirror_mode": {
        "name": "ipython",
        "version": 3
      },
      "file_extension": ".py",
      "mimetype": "text/x-python",
      "name": "python",
      "nbconvert_exporter": "python",
      "pygments_lexer": "ipython3",
      "version": "3.10.8"
    }
  },
  "nbformat": 4,
  "nbformat_minor": 0
}
